{
 "cells": [
  {
   "cell_type": "markdown",
   "id": "0c93af76",
   "metadata": {},
   "source": [
    "before we start, don't forget the **area 51** in reinforcement learning which contains:\n",
    "- agent\n",
    "- environment\n",
    "- action \n",
    "- reward \n",
    "\n",
    "# What we're going to do ❔ \n",
    "\n",
    "# 1-install dependencies\n",
    "\n"
   ]
  },
  {
   "cell_type": "code",
   "execution_count": 1,
   "id": "f33ec9be",
   "metadata": {},
   "outputs": [
    {
     "name": "stdout",
     "output_type": "stream",
     "text": [
      "Requirement already satisfied: tensorflow in c:\\users\\sarah\\anaconda3\\lib\\site-packages (2.8.0)\n",
      "Requirement already satisfied: h5py>=2.9.0 in c:\\users\\sarah\\anaconda3\\lib\\site-packages (from tensorflow) (3.2.1)\n",
      "Requirement already satisfied: gast>=0.2.1 in c:\\users\\sarah\\anaconda3\\lib\\site-packages (from tensorflow) (0.5.3)\n",
      "Requirement already satisfied: keras<2.9,>=2.8.0rc0 in c:\\users\\sarah\\anaconda3\\lib\\site-packages (from tensorflow) (2.8.0)\n",
      "Requirement already satisfied: astunparse>=1.6.0 in c:\\users\\sarah\\anaconda3\\lib\\site-packages (from tensorflow) (1.6.3)\n",
      "Requirement already satisfied: wrapt>=1.11.0 in c:\\users\\sarah\\anaconda3\\lib\\site-packages (from tensorflow) (1.12.1)\n",
      "Requirement already satisfied: flatbuffers>=1.12 in c:\\users\\sarah\\anaconda3\\lib\\site-packages (from tensorflow) (2.0)\n",
      "Requirement already satisfied: tensorboard<2.9,>=2.8 in c:\\users\\sarah\\anaconda3\\lib\\site-packages (from tensorflow) (2.8.0)\n",
      "Requirement already satisfied: absl-py>=0.4.0 in c:\\users\\sarah\\anaconda3\\lib\\site-packages (from tensorflow) (1.0.0)\n",
      "Requirement already satisfied: opt-einsum>=2.3.2 in c:\\users\\sarah\\anaconda3\\lib\\site-packages (from tensorflow) (3.3.0)\n",
      "Requirement already satisfied: typing-extensions>=3.6.6 in c:\\users\\sarah\\anaconda3\\lib\\site-packages (from tensorflow) (3.10.0.2)\n",
      "Requirement already satisfied: numpy>=1.20 in c:\\users\\sarah\\anaconda3\\lib\\site-packages (from tensorflow) (1.20.3)\n",
      "Requirement already satisfied: protobuf>=3.9.2 in c:\\users\\sarah\\anaconda3\\lib\\site-packages (from tensorflow) (3.20.1)\n",
      "Requirement already satisfied: grpcio<2.0,>=1.24.3 in c:\\users\\sarah\\anaconda3\\lib\\site-packages (from tensorflow) (1.44.0)\n",
      "Requirement already satisfied: tensorflow-io-gcs-filesystem>=0.23.1 in c:\\users\\sarah\\anaconda3\\lib\\site-packages (from tensorflow) (0.25.0)\n",
      "Requirement already satisfied: libclang>=9.0.1 in c:\\users\\sarah\\anaconda3\\lib\\site-packages (from tensorflow) (13.0.0)\n",
      "Requirement already satisfied: six>=1.12.0 in c:\\users\\sarah\\anaconda3\\lib\\site-packages (from tensorflow) (1.16.0)\n",
      "Requirement already satisfied: termcolor>=1.1.0 in c:\\users\\sarah\\anaconda3\\lib\\site-packages (from tensorflow) (1.1.0)\n",
      "Requirement already satisfied: keras-preprocessing>=1.1.1 in c:\\users\\sarah\\anaconda3\\lib\\site-packages (from tensorflow) (1.1.2)\n",
      "Requirement already satisfied: tf-estimator-nightly==2.8.0.dev2021122109 in c:\\users\\sarah\\anaconda3\\lib\\site-packages (from tensorflow) (2.8.0.dev2021122109)\n",
      "Requirement already satisfied: google-pasta>=0.1.1 in c:\\users\\sarah\\anaconda3\\lib\\site-packages (from tensorflow) (0.2.0)\n",
      "Requirement already satisfied: setuptools in c:\\users\\sarah\\anaconda3\\lib\\site-packages (from tensorflow) (58.0.4)\n",
      "Requirement already satisfied: wheel<1.0,>=0.23.0 in c:\\users\\sarah\\anaconda3\\lib\\site-packages (from astunparse>=1.6.0->tensorflow) (0.37.0)\n",
      "Requirement already satisfied: werkzeug>=0.11.15 in c:\\users\\sarah\\anaconda3\\lib\\site-packages (from tensorboard<2.9,>=2.8->tensorflow) (2.0.2)\n",
      "Requirement already satisfied: tensorboard-data-server<0.7.0,>=0.6.0 in c:\\users\\sarah\\anaconda3\\lib\\site-packages (from tensorboard<2.9,>=2.8->tensorflow) (0.6.1)\n",
      "Requirement already satisfied: google-auth<3,>=1.6.3 in c:\\users\\sarah\\anaconda3\\lib\\site-packages (from tensorboard<2.9,>=2.8->tensorflow) (2.6.6)\n",
      "Requirement already satisfied: requests<3,>=2.21.0 in c:\\users\\sarah\\anaconda3\\lib\\site-packages (from tensorboard<2.9,>=2.8->tensorflow) (2.26.0)\n",
      "Requirement already satisfied: markdown>=2.6.8 in c:\\users\\sarah\\anaconda3\\lib\\site-packages (from tensorboard<2.9,>=2.8->tensorflow) (3.3.6)\n",
      "Requirement already satisfied: google-auth-oauthlib<0.5,>=0.4.1 in c:\\users\\sarah\\anaconda3\\lib\\site-packages (from tensorboard<2.9,>=2.8->tensorflow) (0.4.6)\n",
      "Requirement already satisfied: tensorboard-plugin-wit>=1.6.0 in c:\\users\\sarah\\anaconda3\\lib\\site-packages (from tensorboard<2.9,>=2.8->tensorflow) (1.8.1)\n",
      "Requirement already satisfied: cachetools<6.0,>=2.0.0 in c:\\users\\sarah\\anaconda3\\lib\\site-packages (from google-auth<3,>=1.6.3->tensorboard<2.9,>=2.8->tensorflow) (5.0.0)\n",
      "Requirement already satisfied: pyasn1-modules>=0.2.1 in c:\\users\\sarah\\anaconda3\\lib\\site-packages (from google-auth<3,>=1.6.3->tensorboard<2.9,>=2.8->tensorflow) (0.2.8)\n",
      "Requirement already satisfied: rsa<5,>=3.1.4 in c:\\users\\sarah\\anaconda3\\lib\\site-packages (from google-auth<3,>=1.6.3->tensorboard<2.9,>=2.8->tensorflow) (4.8)\n",
      "Requirement already satisfied: requests-oauthlib>=0.7.0 in c:\\users\\sarah\\anaconda3\\lib\\site-packages (from google-auth-oauthlib<0.5,>=0.4.1->tensorboard<2.9,>=2.8->tensorflow) (1.3.1)\n",
      "Requirement already satisfied: importlib-metadata>=4.4 in c:\\users\\sarah\\anaconda3\\lib\\site-packages (from markdown>=2.6.8->tensorboard<2.9,>=2.8->tensorflow) (4.11.3)\n",
      "Requirement already satisfied: zipp>=0.5 in c:\\users\\sarah\\anaconda3\\lib\\site-packages (from importlib-metadata>=4.4->markdown>=2.6.8->tensorboard<2.9,>=2.8->tensorflow) (3.6.0)\n",
      "Requirement already satisfied: pyasn1<0.5.0,>=0.4.6 in c:\\users\\sarah\\anaconda3\\lib\\site-packages (from pyasn1-modules>=0.2.1->google-auth<3,>=1.6.3->tensorboard<2.9,>=2.8->tensorflow) (0.4.8)\n",
      "Requirement already satisfied: charset-normalizer~=2.0.0 in c:\\users\\sarah\\anaconda3\\lib\\site-packages (from requests<3,>=2.21.0->tensorboard<2.9,>=2.8->tensorflow) (2.0.4)\n",
      "Requirement already satisfied: idna<4,>=2.5 in c:\\users\\sarah\\anaconda3\\lib\\site-packages (from requests<3,>=2.21.0->tensorboard<2.9,>=2.8->tensorflow) (3.2)\n",
      "Requirement already satisfied: certifi>=2017.4.17 in c:\\users\\sarah\\anaconda3\\lib\\site-packages (from requests<3,>=2.21.0->tensorboard<2.9,>=2.8->tensorflow) (2021.10.8)\n",
      "Requirement already satisfied: urllib3<1.27,>=1.21.1 in c:\\users\\sarah\\anaconda3\\lib\\site-packages (from requests<3,>=2.21.0->tensorboard<2.9,>=2.8->tensorflow) (1.26.7)\n",
      "Requirement already satisfied: oauthlib>=3.0.0 in c:\\users\\sarah\\anaconda3\\lib\\site-packages (from requests-oauthlib>=0.7.0->google-auth-oauthlib<0.5,>=0.4.1->tensorboard<2.9,>=2.8->tensorflow) (3.2.0)\n",
      "Requirement already satisfied: gym in c:\\users\\sarah\\anaconda3\\lib\\site-packages (0.23.1)\n",
      "Requirement already satisfied: numpy>=1.18.0 in c:\\users\\sarah\\anaconda3\\lib\\site-packages (from gym) (1.20.3)\n",
      "Requirement already satisfied: cloudpickle>=1.2.0 in c:\\users\\sarah\\anaconda3\\lib\\site-packages (from gym) (2.0.0)\n",
      "Requirement already satisfied: importlib-metadata>=4.10.0 in c:\\users\\sarah\\anaconda3\\lib\\site-packages (from gym) (4.11.3)\n",
      "Requirement already satisfied: gym-notices>=0.0.4 in c:\\users\\sarah\\anaconda3\\lib\\site-packages (from gym) (0.0.6)\n",
      "Requirement already satisfied: zipp>=0.5 in c:\\users\\sarah\\anaconda3\\lib\\site-packages (from importlib-metadata>=4.10.0->gym) (3.6.0)\n",
      "Requirement already satisfied: keras in c:\\users\\sarah\\anaconda3\\lib\\site-packages (2.8.0)\n",
      "Requirement already satisfied: keras-rl2 in c:\\users\\sarah\\anaconda3\\lib\\site-packages (1.0.5)\n",
      "Requirement already satisfied: tensorflow in c:\\users\\sarah\\anaconda3\\lib\\site-packages (from keras-rl2) (2.8.0)\n",
      "Requirement already satisfied: termcolor>=1.1.0 in c:\\users\\sarah\\anaconda3\\lib\\site-packages (from tensorflow->keras-rl2) (1.1.0)\n",
      "Requirement already satisfied: numpy>=1.20 in c:\\users\\sarah\\anaconda3\\lib\\site-packages (from tensorflow->keras-rl2) (1.20.3)\n",
      "Requirement already satisfied: libclang>=9.0.1 in c:\\users\\sarah\\anaconda3\\lib\\site-packages (from tensorflow->keras-rl2) (13.0.0)\n",
      "Requirement already satisfied: six>=1.12.0 in c:\\users\\sarah\\anaconda3\\lib\\site-packages (from tensorflow->keras-rl2) (1.16.0)\n",
      "Requirement already satisfied: tf-estimator-nightly==2.8.0.dev2021122109 in c:\\users\\sarah\\anaconda3\\lib\\site-packages (from tensorflow->keras-rl2) (2.8.0.dev2021122109)\n",
      "Requirement already satisfied: grpcio<2.0,>=1.24.3 in c:\\users\\sarah\\anaconda3\\lib\\site-packages (from tensorflow->keras-rl2) (1.44.0)\n",
      "Requirement already satisfied: h5py>=2.9.0 in c:\\users\\sarah\\anaconda3\\lib\\site-packages (from tensorflow->keras-rl2) (3.2.1)\n",
      "Requirement already satisfied: keras-preprocessing>=1.1.1 in c:\\users\\sarah\\anaconda3\\lib\\site-packages (from tensorflow->keras-rl2) (1.1.2)\n",
      "Requirement already satisfied: setuptools in c:\\users\\sarah\\anaconda3\\lib\\site-packages (from tensorflow->keras-rl2) (58.0.4)\n",
      "Requirement already satisfied: astunparse>=1.6.0 in c:\\users\\sarah\\anaconda3\\lib\\site-packages (from tensorflow->keras-rl2) (1.6.3)\n",
      "Requirement already satisfied: flatbuffers>=1.12 in c:\\users\\sarah\\anaconda3\\lib\\site-packages (from tensorflow->keras-rl2) (2.0)\n",
      "Requirement already satisfied: tensorboard<2.9,>=2.8 in c:\\users\\sarah\\anaconda3\\lib\\site-packages (from tensorflow->keras-rl2) (2.8.0)\n",
      "Requirement already satisfied: typing-extensions>=3.6.6 in c:\\users\\sarah\\anaconda3\\lib\\site-packages (from tensorflow->keras-rl2) (3.10.0.2)\n",
      "Requirement already satisfied: google-pasta>=0.1.1 in c:\\users\\sarah\\anaconda3\\lib\\site-packages (from tensorflow->keras-rl2) (0.2.0)\n",
      "Requirement already satisfied: wrapt>=1.11.0 in c:\\users\\sarah\\anaconda3\\lib\\site-packages (from tensorflow->keras-rl2) (1.12.1)\n",
      "Requirement already satisfied: protobuf>=3.9.2 in c:\\users\\sarah\\anaconda3\\lib\\site-packages (from tensorflow->keras-rl2) (3.20.1)\n",
      "Requirement already satisfied: gast>=0.2.1 in c:\\users\\sarah\\anaconda3\\lib\\site-packages (from tensorflow->keras-rl2) (0.5.3)\n",
      "Requirement already satisfied: absl-py>=0.4.0 in c:\\users\\sarah\\anaconda3\\lib\\site-packages (from tensorflow->keras-rl2) (1.0.0)\n",
      "Requirement already satisfied: keras<2.9,>=2.8.0rc0 in c:\\users\\sarah\\anaconda3\\lib\\site-packages (from tensorflow->keras-rl2) (2.8.0)\n",
      "Requirement already satisfied: tensorflow-io-gcs-filesystem>=0.23.1 in c:\\users\\sarah\\anaconda3\\lib\\site-packages (from tensorflow->keras-rl2) (0.25.0)\n",
      "Requirement already satisfied: opt-einsum>=2.3.2 in c:\\users\\sarah\\anaconda3\\lib\\site-packages (from tensorflow->keras-rl2) (3.3.0)\n",
      "Requirement already satisfied: wheel<1.0,>=0.23.0 in c:\\users\\sarah\\anaconda3\\lib\\site-packages (from astunparse>=1.6.0->tensorflow->keras-rl2) (0.37.0)\n",
      "Requirement already satisfied: google-auth-oauthlib<0.5,>=0.4.1 in c:\\users\\sarah\\anaconda3\\lib\\site-packages (from tensorboard<2.9,>=2.8->tensorflow->keras-rl2) (0.4.6)\n",
      "Requirement already satisfied: tensorboard-data-server<0.7.0,>=0.6.0 in c:\\users\\sarah\\anaconda3\\lib\\site-packages (from tensorboard<2.9,>=2.8->tensorflow->keras-rl2) (0.6.1)\n",
      "Requirement already satisfied: werkzeug>=0.11.15 in c:\\users\\sarah\\anaconda3\\lib\\site-packages (from tensorboard<2.9,>=2.8->tensorflow->keras-rl2) (2.0.2)\n",
      "Requirement already satisfied: google-auth<3,>=1.6.3 in c:\\users\\sarah\\anaconda3\\lib\\site-packages (from tensorboard<2.9,>=2.8->tensorflow->keras-rl2) (2.6.6)\n",
      "Requirement already satisfied: markdown>=2.6.8 in c:\\users\\sarah\\anaconda3\\lib\\site-packages (from tensorboard<2.9,>=2.8->tensorflow->keras-rl2) (3.3.6)\n",
      "Requirement already satisfied: tensorboard-plugin-wit>=1.6.0 in c:\\users\\sarah\\anaconda3\\lib\\site-packages (from tensorboard<2.9,>=2.8->tensorflow->keras-rl2) (1.8.1)\n",
      "Requirement already satisfied: requests<3,>=2.21.0 in c:\\users\\sarah\\anaconda3\\lib\\site-packages (from tensorboard<2.9,>=2.8->tensorflow->keras-rl2) (2.26.0)\n",
      "Requirement already satisfied: rsa<5,>=3.1.4 in c:\\users\\sarah\\anaconda3\\lib\\site-packages (from google-auth<3,>=1.6.3->tensorboard<2.9,>=2.8->tensorflow->keras-rl2) (4.8)\n",
      "Requirement already satisfied: pyasn1-modules>=0.2.1 in c:\\users\\sarah\\anaconda3\\lib\\site-packages (from google-auth<3,>=1.6.3->tensorboard<2.9,>=2.8->tensorflow->keras-rl2) (0.2.8)\n",
      "Requirement already satisfied: cachetools<6.0,>=2.0.0 in c:\\users\\sarah\\anaconda3\\lib\\site-packages (from google-auth<3,>=1.6.3->tensorboard<2.9,>=2.8->tensorflow->keras-rl2) (5.0.0)\n",
      "Requirement already satisfied: requests-oauthlib>=0.7.0 in c:\\users\\sarah\\anaconda3\\lib\\site-packages (from google-auth-oauthlib<0.5,>=0.4.1->tensorboard<2.9,>=2.8->tensorflow->keras-rl2) (1.3.1)\n",
      "Requirement already satisfied: importlib-metadata>=4.4 in c:\\users\\sarah\\anaconda3\\lib\\site-packages (from markdown>=2.6.8->tensorboard<2.9,>=2.8->tensorflow->keras-rl2) (4.11.3)\n",
      "Requirement already satisfied: zipp>=0.5 in c:\\users\\sarah\\anaconda3\\lib\\site-packages (from importlib-metadata>=4.4->markdown>=2.6.8->tensorboard<2.9,>=2.8->tensorflow->keras-rl2) (3.6.0)\n",
      "Requirement already satisfied: pyasn1<0.5.0,>=0.4.6 in c:\\users\\sarah\\anaconda3\\lib\\site-packages (from pyasn1-modules>=0.2.1->google-auth<3,>=1.6.3->tensorboard<2.9,>=2.8->tensorflow->keras-rl2) (0.4.8)\n",
      "Requirement already satisfied: urllib3<1.27,>=1.21.1 in c:\\users\\sarah\\anaconda3\\lib\\site-packages (from requests<3,>=2.21.0->tensorboard<2.9,>=2.8->tensorflow->keras-rl2) (1.26.7)\n",
      "Requirement already satisfied: charset-normalizer~=2.0.0 in c:\\users\\sarah\\anaconda3\\lib\\site-packages (from requests<3,>=2.21.0->tensorboard<2.9,>=2.8->tensorflow->keras-rl2) (2.0.4)\n",
      "Requirement already satisfied: idna<4,>=2.5 in c:\\users\\sarah\\anaconda3\\lib\\site-packages (from requests<3,>=2.21.0->tensorboard<2.9,>=2.8->tensorflow->keras-rl2) (3.2)\n",
      "Requirement already satisfied: certifi>=2017.4.17 in c:\\users\\sarah\\anaconda3\\lib\\site-packages (from requests<3,>=2.21.0->tensorboard<2.9,>=2.8->tensorflow->keras-rl2) (2021.10.8)\n",
      "Requirement already satisfied: oauthlib>=3.0.0 in c:\\users\\sarah\\anaconda3\\lib\\site-packages (from requests-oauthlib>=0.7.0->google-auth-oauthlib<0.5,>=0.4.1->tensorboard<2.9,>=2.8->tensorflow->keras-rl2) (3.2.0)\n"
     ]
    }
   ],
   "source": [
    "! pip install tensorflow\n",
    "! pip install gym \n",
    "! pip install keras\n",
    "! pip install keras-rl2"
   ]
  },
  {
   "attachments": {
    "menu.PNG": {
     "image/png": "[encoded data removed]"
    }
   },
   "cell_type": "markdown",
   "id": "175a21bf",
   "metadata": {},
   "source": [
    "# 2- test random environment with openAI gym\n",
    "\n",
    "- go to https://gym.openai.com\n",
    "- click environments \n",
    "- you should see something like this \n",
    "\n",
    "![menu.PNG](attachment:menu.PNG)\n",
    "\n"
   ]
  },
  {
   "cell_type": "markdown",
   "id": "41973f5e",
   "metadata": {},
   "source": [
    "- choose any enviroment you want to work with, here we will choose **cart pole-v1** from **Algorithms**"
   ]
  },
  {
   "cell_type": "markdown",
   "id": "c4e74f80",
   "metadata": {},
   "source": [
    "### what is the idea behind the cartpole environment?\n",
    "\n",
    "we have a pole (this tall yellow stick) that is attached to a cart(that black thing) which moves along a frictionless track. the system starts upright and we want to prevent the cart from falling over. a reward of **+1** is given at time step that the pole remains upright, the episode ends when the pole is 15 degress from the vertical, or the cart moves more than 2.4 units from the center.\n",
    "\n"
   ]
  },
  {
   "cell_type": "code",
   "execution_count": 2,
   "id": "7fcee26a",
   "metadata": {},
   "outputs": [
    {
     "data": {
      "text/html": [
       "<img src=\"pole.gif\"/>"
      ],
      "text/plain": [
       "<IPython.core.display.Image object>"
      ]
     },
     "execution_count": 2,
     "metadata": {},
     "output_type": "execute_result"
    }
   ],
   "source": [
    "from IPython.display import Image\n",
    "Image(url='pole.gif')"
   ]
  },
  {
   "cell_type": "markdown",
   "id": "6e44a687",
   "metadata": {},
   "source": [
    "**notes**: \n",
    "- at each time step we get a point from a maximum of 200 points.\n",
    "- we have to actions here: left or right"
   ]
  },
  {
   "cell_type": "code",
   "execution_count": 7,
   "id": "6d43e6ef",
   "metadata": {},
   "outputs": [],
   "source": [
    "# gym is an open-AI library \n",
    "import gym\n",
    "import random\n"
   ]
  },
  {
   "cell_type": "code",
   "execution_count": 8,
   "id": "097a85dd",
   "metadata": {},
   "outputs": [],
   "source": [
    "# let's build our environment \n",
    "env=gym.make('CartPole-v1') \n",
    "states=env.observation_space.shape[0]\n",
    "actions=env.action_space.n"
   ]
  },
  {
   "cell_type": "markdown",
   "id": "8c445fea",
   "metadata": {},
   "source": [
    "note that: here the states in the environment is returned as **tuple** --> (4, ) **but** we want to get the states number as int value so that we're going to deal with that later"
   ]
  },
  {
   "cell_type": "code",
   "execution_count": 9,
   "id": "20c8d701",
   "metadata": {},
   "outputs": [
    {
     "data": {
      "text/plain": [
       "int"
      ]
     },
     "execution_count": 9,
     "metadata": {},
     "output_type": "execute_result"
    }
   ],
   "source": [
    "type(states)"
   ]
  },
  {
   "cell_type": "code",
   "execution_count": 10,
   "id": "798dd138",
   "metadata": {},
   "outputs": [
    {
     "name": "stdout",
     "output_type": "stream",
     "text": [
      "Requirement already satisfied: pygame in c:\\users\\sarah\\anaconda3\\lib\\site-packages (2.1.2)\n"
     ]
    }
   ],
   "source": [
    "# you might find an error than no module called pygame, so do this\n",
    "!pip install pygame\n",
    "#دي بتخلي اللعبة تظهر "
   ]
  },
  {
   "cell_type": "code",
   "execution_count": 11,
   "id": "f92e7fd4",
   "metadata": {},
   "outputs": [
    {
     "data": {
      "text/plain": [
       "2"
      ]
     },
     "execution_count": 11,
     "metadata": {},
     "output_type": "execute_result"
    }
   ],
   "source": [
    "actions"
   ]
  },
  {
   "cell_type": "code",
   "execution_count": 12,
   "id": "df94aeec",
   "metadata": {},
   "outputs": [
    {
     "data": {
      "text/plain": [
       "4"
      ]
     },
     "execution_count": 12,
     "metadata": {},
     "output_type": "execute_result"
    }
   ],
   "source": [
    "states"
   ]
  },
  {
   "cell_type": "code",
   "execution_count": 13,
   "id": "b148f713",
   "metadata": {},
   "outputs": [
    {
     "name": "stdout",
     "output_type": "stream",
     "text": [
      "Episode:1 Score:16.0\n",
      "Episode:2 Score:16.0\n",
      "Episode:3 Score:13.0\n",
      "Episode:4 Score:10.0\n",
      "Episode:5 Score:15.0\n",
      "Episode:6 Score:18.0\n",
      "Episode:7 Score:14.0\n",
      "Episode:8 Score:21.0\n",
      "Episode:9 Score:29.0\n",
      "Episode:10 Score:27.0\n"
     ]
    }
   ],
   "source": [
    "episodes = 10\n",
    "for episode in range(1, episodes+1):\n",
    "    state = env.reset()\n",
    "    done = False\n",
    "    score = 0 \n",
    "    \n",
    "    while not done:\n",
    "        env.render()\n",
    "        action = random.choice([0,1])\n",
    "        n_state, reward, done, info = env.step(action)\n",
    "        score+=reward\n",
    "    print('Episode:{} Score:{}'.format(episode, score))\n"
   ]
  },
  {
   "cell_type": "markdown",
   "id": "bb4f8c47",
   "metadata": {},
   "source": [
    "as you can see here, the max score we got at epiode 9 was 29 and this so far away from the max which is for this environment is **200**"
   ]
  },
  {
   "cell_type": "markdown",
   "id": "48100b24",
   "metadata": {},
   "source": [
    "###  Things explained\n",
    "The environment’s step function returns exactly what we need. In fact, step returns four values. These are:\n",
    "\n",
    "- observation (object): an environment-specific object representing your observation of the environment. For example, pixel data from a camera, joint angles and joint velocities of a robot, or the board state in a board game.\n",
    "\n",
    "- reward (float): amount of reward achieved by the previous action. The scale varies between environments, but the goal is always to increase your total reward.\n",
    "\n",
    "- done (boolean): whether it’s time to reset the environment again. Most (but not all) tasks are divided up into well-defined episodes, and done being True indicates the episode has terminated. (For example, perhaps the pole tipped too far, or you lost your last life.)\n",
    "\n",
    "- info (dict): diagnostic information useful for debugging. It can sometimes be useful for learning (for example, it might contain the raw probabilities behind the environment’s last state change). However, official evaluations of your agent are not allowed to use this for learning.\n",
    "\n",
    "خلاصة الكود: عملت لوب من عشر ابسودس وفي بداية كل لوب بعمل ريسيت للستيت وطول ما الابسود الواحدة شغالة هخليه يعمل راندوم اكشنز وبعد كل اكشن بيبقي فيه ريورد بجمعها ع اللي قبلها عشان اجمع السكورز في الابسود الواحدة ودا طبعا لحد ما الابسود الواحدة تخلص ودا بيحصل لما اخسر مثلا او وقت يبنتهي او اكشن معين يعني يعملي تيرمنيت\n",
    "\n",
    "\n",
    "it's just an implementation of the classic “agent-environment loop”. Each timestep, the agent chooses an action, and the environment returns an observation and a reward.\n",
    "\n"
   ]
  },
  {
   "cell_type": "markdown",
   "id": "f30fc2ba",
   "metadata": {},
   "source": [
    "### but we don't want this ‼ \n",
    "\n",
    "we don't want to make randoom actions and get the final score far from the max score, so we will use deep learning to optimize our actions in order to get a better score"
   ]
  },
  {
   "cell_type": "markdown",
   "id": "554d72fd",
   "metadata": {},
   "source": [
    "# 3- build a deep learning model with keras"
   ]
  },
  {
   "cell_type": "code",
   "execution_count": 14,
   "id": "39e72e7f",
   "metadata": {},
   "outputs": [],
   "source": [
    "import numpy as np\n",
    "from tensorflow.keras.models import Sequential\n",
    "from tensorflow.keras.layers import Dense,Flatten\n",
    "from tensorflow.keras.optimizers import Adam"
   ]
  },
  {
   "cell_type": "code",
   "execution_count": 15,
   "id": "1c0d4f72",
   "metadata": {},
   "outputs": [],
   "source": [
    "def build_model(states,actions):\n",
    "    model=Sequential()\n",
    "    model.add(Flatten(input_shape=(1,states)))\n",
    "    model.add(Dense(24,activation='relu'))\n",
    "    model.add(Dense(24,activation='relu'))\n",
    "    model.add(Dense(actions,activation='linear'))\n",
    "    return model "
   ]
  },
  {
   "cell_type": "code",
   "execution_count": 26,
   "id": "f1f58d4a",
   "metadata": {},
   "outputs": [],
   "source": [
    "del model"
   ]
  },
  {
   "cell_type": "code",
   "execution_count": 27,
   "id": "c560e8ed",
   "metadata": {},
   "outputs": [],
   "source": [
    "model=build_model(states,actions)"
   ]
  },
  {
   "cell_type": "code",
   "execution_count": 28,
   "id": "4b707887",
   "metadata": {},
   "outputs": [
    {
     "name": "stdout",
     "output_type": "stream",
     "text": [
      "Model: \"sequential_2\"\n",
      "_________________________________________________________________\n",
      " Layer (type)                Output Shape              Param #   \n",
      "=================================================================\n",
      " flatten_2 (Flatten)         (None, 4)                 0         \n",
      "                                                                 \n",
      " dense_6 (Dense)             (None, 24)                120       \n",
      "                                                                 \n",
      " dense_7 (Dense)             (None, 24)                600       \n",
      "                                                                 \n",
      " dense_8 (Dense)             (None, 2)                 50        \n",
      "                                                                 \n",
      "=================================================================\n",
      "Total params: 770\n",
      "Trainable params: 770\n",
      "Non-trainable params: 0\n",
      "_________________________________________________________________\n"
     ]
    }
   ],
   "source": [
    "model.summary()"
   ]
  },
  {
   "cell_type": "markdown",
   "id": "0def284e",
   "metadata": {},
   "source": [
    "***quick recap on keras layers dense and flatten***\n",
    "results from every neuron of the preceding layers go to every single neuron of the dense layer. So we can say that if the preceding layer outputs a (M x N) matrix by combining results from every neuron, this output goes through the dense layer where the count of neurons in a dense layer should be N. and here we used flatten to deal with the input layer because as you know, we're working in multidimentional space and flatten convert that multidimentional space into 1D array so that Dense can deal with it,\n",
    "\n",
    "▶For instance if the output of the previous layer is of shape (15, 3, 3, 4), flatten unstacks all the tensor values into a 1-D tensor of shape (15 * 3* 3 *4,) so that it can be used as input for a Dense layer.\n",
    "\n",
    "**dense** do the following function:\n",
    "output = activation(dot(input, kernel) + bias)---> so it makes a matrix vector multiplication\n",
    "\n",
    "اللي عايزين نقوله هنا م الاخر ان احنا لما بنتعامل مع انبوت بيتمثل في صورة ملتي ديمنشنل اراي وتقريبا هنا الستيت المفروض انها تبل ف بيبقي ليها اكتر من ديمنشن,ف مش هنعرف نستخدم دنس لاير عشان هي بتاخد الانبوت ف صورة ون ديمنشنل اراي , وبالتالي هنستخدم فلاتن عشان هي اللي بتظبطلي الدنيا قبل ما ادخل الانبوت علي دنس\n",
    "\n",
    "ممكن تجرب متستخدمش اللاير بتاعة الفلاتن بما ان الشيب بتاع التبل اللي فوق ب 1 وهتلاقي النتيجة هي هي << "
   ]
  },
  {
   "cell_type": "markdown",
   "id": "48b8539e",
   "metadata": {},
   "source": [
    "**in this part of code**, we only built a network that has the number of states as an input, and the number of actions as an output, in order to get the right action for the current state"
   ]
  },
  {
   "cell_type": "markdown",
   "id": "a04f27ea",
   "metadata": {},
   "source": [
    "# 4- Build Agent with Keras-RL"
   ]
  },
  {
   "cell_type": "code",
   "execution_count": 29,
   "id": "9f9cc7b1",
   "metadata": {},
   "outputs": [],
   "source": [
    "from rl.agents import DQNAgent\n",
    "from rl.policy import BoltzmannQPolicy\n",
    "from rl.memory import SequentialMemory"
   ]
  },
  {
   "cell_type": "code",
   "execution_count": 30,
   "id": "834e02f8",
   "metadata": {},
   "outputs": [],
   "source": [
    "def build_agent(model, actions):\n",
    "    policy = BoltzmannQPolicy()\n",
    "    memory = SequentialMemory(limit=50000, window_length=1)\n",
    "    dqn = DQNAgent(model=model, memory=memory, policy=policy, \n",
    "                  nb_actions=actions, nb_steps_warmup=10, target_model_update=1e-2)\n",
    "    return dqn\n",
    "\n"
   ]
  },
  {
   "cell_type": "code",
   "execution_count": 44,
   "id": "d5282c56",
   "metadata": {},
   "outputs": [
    {
     "name": "stdout",
     "output_type": "stream",
     "text": [
      "Training for 50000 steps ...\n",
      "Interval 1 (0 steps performed)\n",
      "10000/10000 [==============================] - 65s 6ms/step - reward: 1.0000\n",
      "54 episodes - episode_reward: 184.204 [54.000, 200.000] - loss: 25.616 - mae: 52.279 - mean_q: 105.021\n",
      "\n",
      "Interval 2 (10000 steps performed)\n",
      "10000/10000 [==============================] - 65s 6ms/step - reward: 1.0000\n",
      "58 episodes - episode_reward: 172.000 [84.000, 200.000] - loss: 19.869 - mae: 48.919 - mean_q: 98.453\n",
      "\n",
      "Interval 3 (20000 steps performed)\n",
      "10000/10000 [==============================] - 69s 7ms/step - reward: 1.0000\n",
      "50 episodes - episode_reward: 200.000 [200.000, 200.000] - loss: 19.672 - mae: 48.058 - mean_q: 96.665\n",
      "\n",
      "Interval 4 (30000 steps performed)\n",
      "10000/10000 [==============================] - 68s 7ms/step - reward: 1.0000\n",
      "54 episodes - episode_reward: 183.778 [43.000, 200.000] - loss: 22.794 - mae: 50.364 - mean_q: 100.958\n",
      "\n",
      "Interval 5 (40000 steps performed)\n",
      "10000/10000 [==============================] - 69s 7ms/step - reward: 1.0000\n",
      "done, took 336.148 seconds\n"
     ]
    },
    {
     "data": {
      "text/plain": [
       "<keras.callbacks.History at 0x25e157b6b50>"
      ]
     },
     "execution_count": 44,
     "metadata": {},
     "output_type": "execute_result"
    }
   ],
   "source": [
    "dqn = build_agent(model, actions)\n",
    "dqn.compile(Adam(lr=1e-3), metrics=['mae'])\n",
    "dqn.fit(env, nb_steps=50000, visualize=False, verbose=1)"
   ]
  },
  {
   "cell_type": "code",
   "execution_count": 45,
   "id": "a56fff64",
   "metadata": {},
   "outputs": [
    {
     "name": "stdout",
     "output_type": "stream",
     "text": [
      "Testing for 50 episodes ...\n",
      "Episode 1: reward: 200.000, steps: 200\n",
      "Episode 2: reward: 200.000, steps: 200\n",
      "Episode 3: reward: 200.000, steps: 200\n",
      "Episode 4: reward: 200.000, steps: 200\n",
      "Episode 5: reward: 200.000, steps: 200\n",
      "Episode 6: reward: 200.000, steps: 200\n",
      "Episode 7: reward: 200.000, steps: 200\n",
      "Episode 8: reward: 200.000, steps: 200\n",
      "Episode 9: reward: 200.000, steps: 200\n",
      "Episode 10: reward: 200.000, steps: 200\n",
      "Episode 11: reward: 200.000, steps: 200\n",
      "Episode 12: reward: 200.000, steps: 200\n",
      "Episode 13: reward: 200.000, steps: 200\n",
      "Episode 14: reward: 200.000, steps: 200\n",
      "Episode 15: reward: 200.000, steps: 200\n",
      "Episode 16: reward: 200.000, steps: 200\n",
      "Episode 17: reward: 200.000, steps: 200\n",
      "Episode 18: reward: 200.000, steps: 200\n",
      "Episode 19: reward: 200.000, steps: 200\n",
      "Episode 20: reward: 200.000, steps: 200\n",
      "Episode 21: reward: 200.000, steps: 200\n",
      "Episode 22: reward: 200.000, steps: 200\n",
      "Episode 23: reward: 200.000, steps: 200\n",
      "Episode 24: reward: 200.000, steps: 200\n",
      "Episode 25: reward: 200.000, steps: 200\n",
      "Episode 26: reward: 200.000, steps: 200\n",
      "Episode 27: reward: 200.000, steps: 200\n",
      "Episode 28: reward: 200.000, steps: 200\n",
      "Episode 29: reward: 200.000, steps: 200\n",
      "Episode 30: reward: 200.000, steps: 200\n",
      "Episode 31: reward: 200.000, steps: 200\n",
      "Episode 32: reward: 200.000, steps: 200\n",
      "Episode 33: reward: 200.000, steps: 200\n",
      "Episode 34: reward: 200.000, steps: 200\n",
      "Episode 35: reward: 200.000, steps: 200\n",
      "Episode 36: reward: 200.000, steps: 200\n",
      "Episode 37: reward: 200.000, steps: 200\n",
      "Episode 38: reward: 200.000, steps: 200\n",
      "Episode 39: reward: 200.000, steps: 200\n",
      "Episode 40: reward: 200.000, steps: 200\n",
      "Episode 41: reward: 200.000, steps: 200\n",
      "Episode 42: reward: 200.000, steps: 200\n",
      "Episode 43: reward: 200.000, steps: 200\n",
      "Episode 44: reward: 200.000, steps: 200\n",
      "Episode 45: reward: 200.000, steps: 200\n",
      "Episode 46: reward: 200.000, steps: 200\n",
      "Episode 47: reward: 200.000, steps: 200\n",
      "Episode 48: reward: 200.000, steps: 200\n",
      "Episode 49: reward: 200.000, steps: 200\n",
      "Episode 50: reward: 200.000, steps: 200\n",
      "200.0\n"
     ]
    }
   ],
   "source": [
    "scores = dqn.test(env, nb_episodes=50, visualize=False)\n",
    "# calculate the mean of the scores of each episode\n",
    "print(np.mean(scores.history['episode_reward']))"
   ]
  },
  {
   "attachments": {
    "keras.PNG": {
     "image/png": "[encoded data removed]"
    }
   },
   "cell_type": "markdown",
   "id": "2409b55e",
   "metadata": {},
   "source": [
    "## what was going on up there? \n",
    "\n",
    "**keras-rl** implements some state-of-the art deep reinforcement learning algorithms in Python and seamlessly integrates with the deep learning library Keras.\n",
    "\n",
    "so, we opened the documentation for keras-rl and we found a number of agents that can work with continuous/discreate actions.\n",
    "![keras.PNG](attachment:keras.PNG)\n",
    "\n"
   ]
  },
  {
   "cell_type": "markdown",
   "id": "d5c458eb",
   "metadata": {},
   "source": [
    "1- we decided to use DQN-agent\n",
    "\n",
    "2- a funciton called build_agent was made and takes the deep model and the number of actions as function parameters.\n",
    "\n",
    "## the DQNAgent function parameters:\n",
    "\n",
    "**model**: it takes our previously built model!\n",
    "\n",
    "**memory**: so what is sequential memory? \n",
    "\n",
    "it's simply used by the DQN agent to store various states transitions, actions, and rewards so that we don't have to make observations for the environment everytime. \n",
    "\n",
    "-->The **limit** parameter specifies how many entries the memory can hold. After exceeding this limit, older entries will be replaced by newer ones.\n",
    "\n",
    "-->The **window_length** parameter controls how many observations are concatenated to form a \"state\".\n",
    "\n",
    "**policy**: what is Boltzmann policy?(note: we have multiple types of exploration polices overthere depending on the type of action_space whether it's discret or continuous)\n",
    "\n",
    "The Boltzmann exploration policy is intended for discrete action spaces. It assumes that each of the possible actions has some value assigned to it (such as the Q value), and uses a softmax function to convert these values into a distribution over the actions.\n",
    "\n",
    "\n",
    "**nb_steps_warmup**:\n",
    "\n",
    "Determines how long we wait before we start doing experience replay, which if you recall, is when we actually start training the network. This lets us build up enough experience to build a proper minibatch. If you choose a value for this parameter that’s smaller than your batch size, Keras RL will sample with a replacement. زي تدريب مبداي للاجنت قبل ما يبدا الترين الاساسي اللي احنا هنخليه ب 50000 ستيب \n",
    "\n",
    "#### target_model_update: \n",
    "\n",
    "The parameter controls how often the target network is updated. If target_model_update >= 1, the target model is updated every target_model_update-th step. I.e. if you set target_model_update = 10000, the target model will be updated on step 10 000, 20 000, and so on, i.e. we set target_model = model on these steps. On the other hand, if target_model_update < 1, we use something called soft updates. The idea here is similar but instead of updating the entire target model (hard update), we gradually adopt changes like so:  \n",
    "\n",
    "\n",
    "**target_model = target_model_update * model + (1 - target_model_update) * target_model.**\n",
    "\n",
    "\n",
    "The exact value of  **after how many steps we want to update our target model function?** needs tuning like any other hyperparameter. If your model becomes unstable, this is usually something that you want to decrease (in the case of soft updates) or increase (in the case of hard updates). and here we started used softupdate. \n"
   ]
  },
  {
   "cell_type": "markdown",
   "id": "659beea4",
   "metadata": {},
   "source": [
    "3- then we will make compilation with keras optimizer.\n",
    "(Note: Optimizers are Classes or methods used to change the attributes of your machine/deep learning model such as weights and learning rate in order to reduce the losses. Optimizers help to get results faster.)\n",
    "\n",
    "4-  we will fit and train our agent in the environment with 50000 steps\n",
    "\n",
    "\n",
    "**verbose**\n",
    "\n",
    "By setting verbose 0, 1 or 2 you just say how do you want to 'see' the training progress for each episode\n",
    "\n",
    "verbose=0 will show you nothing (silent)\n",
    "\n",
    "verbose=1 will show you an animated progress bar like this:\n",
    "\n",
    "progres_bar\n",
    "\n",
    "verbose=2 will just mention the number of epo like this:\n",
    "\n",
    "x/y\n",
    "\n",
    "\n",
    "**>>> try different values for: nb_steps_warmup , nb_steps(the more of steps here the better your agent performance)**"
   ]
  },
  {
   "cell_type": "code",
   "execution_count": 46,
   "id": "66b7a3b4",
   "metadata": {},
   "outputs": [
    {
     "name": "stdout",
     "output_type": "stream",
     "text": [
      "Testing for 5 episodes ...\n",
      "Episode 1: reward: 200.000, steps: 200\n",
      "Episode 2: reward: 200.000, steps: 200\n",
      "Episode 3: reward: 200.000, steps: 200\n",
      "Episode 4: reward: 200.000, steps: 200\n",
      "Episode 5: reward: 200.000, steps: 200\n"
     ]
    }
   ],
   "source": [
    "# now if you want to visualize your model within 5 episodes\n",
    "_ = dqn.test(env, nb_episodes=5, visualize=True)\n"
   ]
  },
  {
   "cell_type": "markdown",
   "id": "de24a2c2",
   "metadata": {},
   "source": [
    "# 5-Reloding Agent from memory\n"
   ]
  },
  {
   "cell_type": "markdown",
   "id": "78649ad9",
   "metadata": {},
   "source": [
    "Now, what we're going to do is to save our model's weights in memory(maybe in .index file), and then reomve our model and rebuild it with our saved weights"
   ]
  },
  {
   "cell_type": "code",
   "execution_count": 47,
   "id": "8983623a",
   "metadata": {},
   "outputs": [],
   "source": [
    "dqn.save_weights('dqn_weights.h5f', overwrite=True)"
   ]
  },
  {
   "cell_type": "markdown",
   "id": "b42f4bb8",
   "metadata": {},
   "source": [
    "**note that:**\n",
    "\n",
    "**HDF5 file stands for Hierarchical Data Format 5. It is an open-source file which comes in handy to store large amount of data. As the name suggests, it stores data in a hierarchical structure within a single file.**"
   ]
  },
  {
   "cell_type": "code",
   "execution_count": 48,
   "id": "38f280cd",
   "metadata": {},
   "outputs": [],
   "source": [
    "del model\n",
    "del dqn\n",
    "del env"
   ]
  },
  {
   "cell_type": "code",
   "execution_count": 49,
   "id": "296019b2",
   "metadata": {},
   "outputs": [],
   "source": [
    "env = gym.make('CartPole-v0')\n",
    "actions = env.action_space.n\n",
    "states = env.observation_space.shape[0]"
   ]
  },
  {
   "cell_type": "code",
   "execution_count": 50,
   "id": "77b2e2c4",
   "metadata": {},
   "outputs": [],
   "source": [
    "model = build_model(states, actions)"
   ]
  },
  {
   "cell_type": "code",
   "execution_count": 51,
   "id": "dcd4c466",
   "metadata": {},
   "outputs": [],
   "source": [
    "dqn = build_agent(model, actions)\n",
    "dqn.compile(Adam(lr=1e-3), metrics=['mae'])"
   ]
  },
  {
   "cell_type": "code",
   "execution_count": 52,
   "id": "397432ce",
   "metadata": {},
   "outputs": [],
   "source": [
    "dqn.load_weights('dqn_weights.h5f')"
   ]
  },
  {
   "cell_type": "code",
   "execution_count": 53,
   "id": "1d25421e",
   "metadata": {},
   "outputs": [
    {
     "name": "stdout",
     "output_type": "stream",
     "text": [
      "Testing for 5 episodes ...\n",
      "Episode 1: reward: 200.000, steps: 200\n",
      "Episode 2: reward: 200.000, steps: 200\n",
      "Episode 3: reward: 200.000, steps: 200\n",
      "Episode 4: reward: 200.000, steps: 200\n",
      "Episode 5: reward: 200.000, steps: 200\n"
     ]
    }
   ],
   "source": [
    "_ = dqn.test(env, nb_episodes=5, visualize=True)\n"
   ]
  },
  {
   "cell_type": "code",
   "execution_count": 43,
   "id": "4dd06c8d",
   "metadata": {},
   "outputs": [
    {
     "data": {
      "text/html": [
       "<img src=\"giphy.gif\"/>"
      ],
      "text/plain": [
       "<IPython.core.display.Image object>"
      ]
     },
     "execution_count": 43,
     "metadata": {},
     "output_type": "execute_result"
    }
   ],
   "source": [
    "from IPython.display import Image\n",
    "Image(url='giphy.gif')"
   ]
  },
  {
   "cell_type": "code",
   "execution_count": null,
   "id": "798fc41d",
   "metadata": {},
   "outputs": [],
   "source": []
  }
 ],
 "metadata": {
  "kernelspec": {
   "display_name": "my_env",
   "language": "python",
   "name": "my_env"
  },
  "language_info": {
   "codemirror_mode": {
    "name": "ipython",
    "version": 3
   },
   "file_extension": ".py",
   "mimetype": "text/x-python",
   "name": "python",
   "nbconvert_exporter": "python",
   "pygments_lexer": "ipython3",
   "version": "3.9.7"
  }
 },
 "nbformat": 4,
 "nbformat_minor": 5
}
